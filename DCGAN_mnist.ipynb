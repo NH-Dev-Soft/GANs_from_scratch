{
 "cells": [
  {
   "cell_type": "code",
   "execution_count": 1,
   "metadata": {},
   "outputs": [],
   "source": [
    "import timeit\n",
    "import matplotlib.pyplot as plt\n",
    "import pickle\n",
    "from time import time\n",
    "import numpy as np"
   ]
  },
  {
   "cell_type": "code",
   "execution_count": 2,
   "metadata": {},
   "outputs": [
    {
     "name": "stdout",
     "output_type": "stream",
     "text": [
      "Loading dataset....\n",
      "Done.\n"
     ]
    }
   ],
   "source": [
    "from mnist import MNIST\n",
    "print(\"Loading dataset....\")\n",
    "mndata = MNIST('../mnist_dataset')\n",
    "X_train, y_train = mndata.load_training()\n",
    "X_train = (mndata.process_images_to_numpy(X_train)/255).astype(np.float32)\n",
    "X_test, y_test = mndata.load_testing()\n",
    "X_test = (mndata.process_images_to_numpy(X_test)/255).astype(np.float32)\n",
    "print(\"Done.\")"
   ]
  },
  {
   "cell_type": "code",
   "execution_count": 3,
   "metadata": {},
   "outputs": [],
   "source": [
    "del y_train\n",
    "del y_test\n",
    "del mndata\n",
    "# for tanh\n",
    "X_train=X_train*2 - 1\n",
    "X_test=X_test*2 - 1\n",
    "X_train=np.concatenate([X_train,X_test]).reshape(-1,28,28,1)"
   ]
  },
  {
   "cell_type": "code",
   "execution_count": 4,
   "metadata": {},
   "outputs": [],
   "source": [
    "import sys\n",
    "sys.path.append(\"../dnn_from_scratch\")"
   ]
  },
  {
   "cell_type": "code",
   "execution_count": 5,
   "metadata": {},
   "outputs": [
    {
     "name": "stdout",
     "output_type": "stream",
     "text": [
      "Seed: 17\n",
      "Seed: 623\n"
     ]
    }
   ],
   "source": [
    "from nnet.network import Sequential,layers\n",
    "from nnet.layers import conv2d,max_pool,flatten,dense,dropout,conv2d,conv2dtranspose,upsampling,reshape,BatchNormalization,Activation\n",
    "from nnet import functions\n",
    "from nnet import optimizers\n",
    "import numpy as np"
   ]
  },
  {
   "cell_type": "code",
   "execution_count": 19,
   "metadata": {},
   "outputs": [
    {
     "name": "stdout",
     "output_type": "stream",
     "text": [
      "⎽⎽⎽⎽⎽⎽⎽⎽⎽⎽⎽⎽⎽⎽⎽⎽⎽⎽⎽⎽⎽⎽⎽⎽⎽⎽⎽⎽⎽⎽⎽⎽⎽⎽⎽⎽⎽⎽⎽⎽⎽⎽⎽⎽⎽⎽⎽⎽⎽⎽⎽⎽⎽⎽⎽⎽⎽⎽⎽⎽⎽⎽⎽⎽⎽⎽⎽⎽⎽⎽⎽⎽⎽⎽⎽⎽⎽⎽⎽⎽⎽⎽⎽⎽⎽⎽⎽⎽⎽⎽\n",
      "Layer (type)               Output Shape             Activation        Param #\n",
      "==========================================================================================\n",
      "0 input_layer(InputLayer) (None, 100)                echo             0\n",
      "__________________________________________________________________________________________\n",
      "1 dense(dense)            (None, 6272)               leakyRelu        633472\n",
      "__________________________________________________________________________________________\n",
      "2 reshape(reshape)        (None, 7, 7, 128)          echo             0\n",
      "__________________________________________________________________________________________\n",
      "3 conv2dtranspose(conv2dt (None, 14, 14, 64)         leakyRelu        73792\n",
      "__________________________________________________________________________________________\n",
      "4 BatchNormalization(Batc (None, 14, 14, 64)         echo             256\n",
      "__________________________________________________________________________________________\n",
      "5 conv2dtranspose(conv2dt (None, 28, 28, 32)         leakyRelu        18464\n",
      "__________________________________________________________________________________________\n",
      "6 BatchNormalization(Batc (None, 28, 28, 32)         echo             128\n",
      "__________________________________________________________________________________________\n",
      "7 conv2d(conv2d)          (None, 28, 28, 1)          tanh             289\n",
      "==========================================================================================\n",
      "Total Params: 726,401\n",
      "Trainable Params: 726,209\n",
      "Non-trainable Params: 192\n"
     ]
    }
   ],
   "source": [
    "def generator():\n",
    "    model=Sequential()\n",
    "    model.add(dense(128*7*7,activation=functions.leakyRelu,input_shape=100))\n",
    "    model.add(reshape((7,7,128)))\n",
    "#     model.add(upsampling())\n",
    "#     model.add(conv2d(64,kernel_size=3,activation=functions.leakyRelu))\n",
    "    model.add(conv2dtranspose(64,kernel_size=3,stride=[2,2],activation=functions.leakyRelu))\n",
    "    model.add(BatchNormalization())\n",
    "#     model.add(upsampling())\n",
    "#     model.add(conv2d(32,kernel_size=3,activation=functions.leakyRelu))\n",
    "    model.add(conv2dtranspose(32,kernel_size=3,stride=[2,2],activation=functions.leakyRelu))\n",
    "    model.add(BatchNormalization())\n",
    "    model.add(conv2d(1,kernel_size=3,activation=functions.tanh))\n",
    "    return model\n",
    "g=generator()\n",
    "g.summary()"
   ]
  },
  {
   "cell_type": "code",
   "execution_count": 20,
   "metadata": {},
   "outputs": [
    {
     "name": "stdout",
     "output_type": "stream",
     "text": [
      "⎽⎽⎽⎽⎽⎽⎽⎽⎽⎽⎽⎽⎽⎽⎽⎽⎽⎽⎽⎽⎽⎽⎽⎽⎽⎽⎽⎽⎽⎽⎽⎽⎽⎽⎽⎽⎽⎽⎽⎽⎽⎽⎽⎽⎽⎽⎽⎽⎽⎽⎽⎽⎽⎽⎽⎽⎽⎽⎽⎽⎽⎽⎽⎽⎽⎽⎽⎽⎽⎽⎽⎽⎽⎽⎽⎽⎽⎽⎽⎽⎽⎽⎽⎽⎽⎽⎽⎽⎽⎽\n",
      "Layer (type)               Output Shape             Activation        Param #\n",
      "==========================================================================================\n",
      "0 input_layer(InputLayer) (None, 28, 28, 1)          echo             0\n",
      "__________________________________________________________________________________________\n",
      "1 conv2d(conv2d)          (None, 14, 14, 32)         leakyRelu        320\n",
      "__________________________________________________________________________________________\n",
      "2 dropout(dropout)        (None, 14, 14, 32)         echo             0\n",
      "__________________________________________________________________________________________\n",
      "3 conv2d(conv2d)          (None, 7, 7, 64)           leakyRelu        18496\n",
      "__________________________________________________________________________________________\n",
      "4 BatchNormalization(Batc (None, 7, 7, 64)           echo             256\n",
      "__________________________________________________________________________________________\n",
      "5 dropout(dropout)        (None, 7, 7, 64)           echo             0\n",
      "__________________________________________________________________________________________\n",
      "6 flatten(flatten)        (None, 3136)               echo             0\n",
      "__________________________________________________________________________________________\n",
      "7 dropout(dropout)        (None, 3136)               echo             0\n",
      "__________________________________________________________________________________________\n",
      "8 dense(dense)            (None, 1)                  sigmoid          3137\n",
      "==========================================================================================\n",
      "Total Params: 22,209\n",
      "Trainable Params: 22,081\n",
      "Non-trainable Params: 128\n"
     ]
    }
   ],
   "source": [
    "def discriminator():\n",
    "    model=Sequential()\n",
    "    model.add(conv2d(32,kernel_size=3,stride=[2,2],activation=functions.leakyRelu,input_shape=(28,28,1)))\n",
    "#     model.add(max_pool())\n",
    "    model.add(dropout(0.25))\n",
    "    model.add(conv2d(64,kernel_size=3,stride=[2,2],activation=functions.leakyRelu))\n",
    "#     model.add(max_pool())\n",
    "    model.add(BatchNormalization())\n",
    "    model.add(dropout(0.25))\n",
    "    model.add(flatten())\n",
    "    model.add(dense(256,activation=functions.leakyRelu))\n",
    "    model.add(dropout(0.2))\n",
    "    model.add(dense(1,activation=functions.sigmoid))\n",
    "    return model\n",
    "d=discriminator()\n",
    "d.summary()"
   ]
  },
  {
   "cell_type": "code",
   "execution_count": 21,
   "metadata": {},
   "outputs": [],
   "source": [
    "g.compile(optimizer=optimizers.adam,loss=functions.mean_squared_error,learning_rate=0.002)\n",
    "d.compile(optimizer=optimizers.adam,loss=functions.cross_entropy_with_logits,learning_rate=0.002)"
   ]
  },
  {
   "cell_type": "code",
   "execution_count": 22,
   "metadata": {},
   "outputs": [],
   "source": [
    "noise=np.random.randn(64,100).astype(np.float32)\n",
    "gen=g.predict(noise)"
   ]
  },
  {
   "cell_type": "code",
   "execution_count": 23,
   "metadata": {},
   "outputs": [],
   "source": [
    "def gen_sample():\n",
    "    noise=np.random.randn(1,100).astype(np.float32)\n",
    "    gen=g.predict(noise)\n",
    "    plt.imshow((gen.reshape(28,28)+1)/2, cmap='Greys')\n",
    "    plt.show()\n",
    "    print(d.predict(gen)[0])"
   ]
  },
  {
   "cell_type": "code",
   "execution_count": 24,
   "metadata": {},
   "outputs": [],
   "source": [
    "def run():\n",
    "    batch_size=64\n",
    "    dsz=X_train.shape[0]\n",
    "    # Label real ones as 90% real\n",
    "    y_fake=np.zeros((batch_size,1),dtype=np.float32)\n",
    "    y_real=np.ones((batch_size,1),dtype=np.float32)\n",
    "    y_gen=np.ones((batch_size*2,1),dtype=np.float32)\n",
    "    for step in range(dsz//batch_size):\n",
    "        stt=time()\n",
    "        noise=np.random.randn(batch_size,100).astype(np.float32)\n",
    "        # Generate fake images from noise\n",
    "        generated_images=g.predict(noise)\n",
    "        # Get random real images\n",
    "        real_images=X_train[np.random.randint(low=0,high=X_train.shape[0],size=batch_size)]\n",
    "#         X = np.concatenate([real_images,generated_images])\n",
    "        # Train discriminator\n",
    "        y_real=np.random.uniform(0.9,1,(batch_size,1)).astype(np.float32)\n",
    "        y_fake=np.random.uniform(0,0.1,(batch_size,1)).astype(np.float32)\n",
    "        dout1=d.train_on_batch(real_images,y_real)\n",
    "        dout2=d.train_on_batch(generated_images,y_fake)\n",
    "        dloss=functions.cross_entropy(logits=dout2,labels=y_fake).sum()\n",
    "        # Treat noised input of generator as real data\n",
    "        noise=np.random.randn(batch_size*2,100).astype(np.float32)\n",
    "        # Train generator\n",
    "        gout=g.forward(noise)\n",
    "        # do not train discriminator and find delta for generator\n",
    "        dout,err=d.not_train_on_batch(gout,y_gen)\n",
    "        g.backprop(err,g.lenseq_m1)\n",
    "        g.optimizer(g.sequence,g.learning_rate,g.beta)\n",
    "        if not step%60:\n",
    "            gen_sample()\n",
    "        print(\"\\rProgress: {:.2f} %     Dloss: {}    err: {}     Sample time: {:.3f}s    _\".format(step*batch_size*100/dsz,dloss,abs(err).sum(),time()-stt),end='')"
   ]
  },
  {
   "cell_type": "code",
   "execution_count": null,
   "metadata": {
    "scrolled": true
   },
   "outputs": [],
   "source": [
    "epochs=5\n",
    "for epoch in range(epochs):\n",
    "    print(\"EPOCH:\",epoch+1,'/',epochs)\n",
    "    st_tm=time()\n",
    "    run()\n",
    "    print(\"\\nEpoch time: {}:{}s\".format(int(time()-st_tm)//60,int(time()-st_tm)%60))\n",
    "    gen_sample()"
   ]
  },
  {
   "cell_type": "markdown",
   "metadata": {},
   "source": [
    "## # Using generator with just batch size 1 for first time is causing images to be generated extreme"
   ]
  },
  {
   "cell_type": "code",
   "execution_count": null,
   "metadata": {
    "scrolled": false
   },
   "outputs": [],
   "source": [
    "noise=np.random.randn(128,100).astype(np.float32)\n",
    "gen=g.predict(noise)\n",
    "gen_sample()\n",
    "img=X_train[np.random.randint(low=0,high=X_train.shape[0],size=1)]\n",
    "plt.imshow((img.reshape(28,28)+1)/2, cmap='Greys')\n",
    "plt.show()\n",
    "print(d.predict(img))"
   ]
  },
  {
   "cell_type": "code",
   "execution_count": null,
   "metadata": {
    "scrolled": false
   },
   "outputs": [],
   "source": [
    "fig, ax = plt.subplots(nrows=5,ncols=5,figsize=[10,10])\n",
    "fig.patch.set_facecolor('white')\n",
    "noise=np.random.randn(25,100).astype(np.float32)\n",
    "gen=g.predict(noise)\n",
    "for i,axi in enumerate(ax.flat):\n",
    "    axi.imshow((gen[i].squeeze()+1)/2, cmap='Greys')"
   ]
  },
  {
   "cell_type": "code",
   "execution_count": null,
   "metadata": {},
   "outputs": [],
   "source": []
  }
 ],
 "metadata": {
  "kernelspec": {
   "display_name": "Python 3",
   "language": "python",
   "name": "python3"
  },
  "language_info": {
   "codemirror_mode": {
    "name": "ipython",
    "version": 3
   },
   "file_extension": ".py",
   "mimetype": "text/x-python",
   "name": "python",
   "nbconvert_exporter": "python",
   "pygments_lexer": "ipython3",
   "version": "3.8.1"
  }
 },
 "nbformat": 4,
 "nbformat_minor": 2
}
