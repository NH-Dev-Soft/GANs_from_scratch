{
 "cells": [
  {
   "cell_type": "code",
   "execution_count": 2,
   "metadata": {},
   "outputs": [],
   "source": [
    "import timeit\n",
    "import matplotlib.pyplot as plt\n",
    "import pickle\n",
    "from time import time\n",
    "import numpy as np"
   ]
  },
  {
   "cell_type": "code",
   "execution_count": 3,
   "metadata": {},
   "outputs": [
    {
     "name": "stdout",
     "output_type": "stream",
     "text": [
      "Loading dataset....\n",
      "Done.\n"
     ]
    }
   ],
   "source": [
    "from mnist import MNIST\n",
    "print(\"Loading dataset....\")\n",
    "mndata = MNIST('../mnist_dataset')\n",
    "X_train, y_train = mndata.load_training()\n",
    "X_train = (mndata.process_images_to_numpy(X_train)/255).astype(np.float32)\n",
    "X_test, y_test = mndata.load_testing()\n",
    "X_test = (mndata.process_images_to_numpy(X_test)/255).astype(np.float32)\n",
    "print(\"Done.\")"
   ]
  },
  {
   "cell_type": "code",
   "execution_count": 4,
   "metadata": {},
   "outputs": [],
   "source": [
    "X_train=X_train*2 - 1\n",
    "X_test=X_test*2 - 1\n",
    "X_train=np.concatenate([X_train,X_test])"
   ]
  },
  {
   "cell_type": "code",
   "execution_count": 1,
   "metadata": {},
   "outputs": [],
   "source": [
    "import sys\n",
    "sys.path.append(\"../dnn_from_scratch\")"
   ]
  },
  {
   "cell_type": "code",
   "execution_count": 5,
   "metadata": {},
   "outputs": [
    {
     "name": "stdout",
     "output_type": "stream",
     "text": [
      "Seed: 139\n",
      "Seed: 516\n"
     ]
    }
   ],
   "source": [
    "from nnet.network import Sequential,layers\n",
    "from nnet.layers import conv2d,max_pool,flatten,dense,dropout\n",
    "from nnet import functions\n",
    "from nnet import optimizers\n",
    "import numpy as np"
   ]
  },
  {
   "cell_type": "code",
   "execution_count": 6,
   "metadata": {},
   "outputs": [],
   "source": [
    "def generator():\n",
    "    model=Sequential()\n",
    "    model.add(dense(128,input_shape=(100),activation=functions.leakyRelu))\n",
    "    model.add(dropout(0.3))\n",
    "    model.add(dense(256,activation=functions.leakyRelu))\n",
    "    model.add(dropout(0.3))\n",
    "    model.add(dense(784,activation=functions.tanh))\n",
    "    return model\n",
    "g=generator()"
   ]
  },
  {
   "cell_type": "code",
   "execution_count": 6,
   "metadata": {},
   "outputs": [
    {
     "name": "stdout",
     "output_type": "stream",
     "text": [
      "⎽⎽⎽⎽⎽⎽⎽⎽⎽⎽⎽⎽⎽⎽⎽⎽⎽⎽⎽⎽⎽⎽⎽⎽⎽⎽⎽⎽⎽⎽⎽⎽⎽⎽⎽⎽⎽⎽⎽⎽⎽⎽⎽⎽⎽⎽⎽⎽⎽⎽⎽⎽⎽⎽⎽⎽⎽⎽⎽⎽⎽⎽⎽⎽⎽⎽⎽⎽⎽⎽⎽⎽⎽⎽⎽⎽⎽⎽⎽⎽⎽⎽⎽⎽⎽⎽⎽⎽⎽⎽\n",
      "Layer (type)               Output Shape             Activation        Param #\n",
      "==========================================================================================\n",
      "0 input_layer(InputLayer) (None, 100)                echo             0\n",
      "__________________________________________________________________________________________\n",
      "1 dense(dense)            (None, 128)                leakyRelu        12928\n",
      "__________________________________________________________________________________________\n",
      "2 dropout(dropout)        (None, 128)                echo             0\n",
      "__________________________________________________________________________________________\n",
      "3 dense(dense)            (None, 256)                leakyRelu        33024\n",
      "__________________________________________________________________________________________\n",
      "4 dropout(dropout)        (None, 256)                echo             0\n",
      "__________________________________________________________________________________________\n",
      "5 dense(dense)            (None, 784)                tanh             201488\n",
      "==========================================================================================\n",
      "Total Params: 247,440\n",
      "Trainable Params: 247,440\n",
      "Non-trainable Params: 0\n"
     ]
    }
   ],
   "source": [
    "g.summary()"
   ]
  },
  {
   "cell_type": "code",
   "execution_count": 7,
   "metadata": {},
   "outputs": [],
   "source": [
    "def discriminator():\n",
    "    model=Sequential()\n",
    "    model.add(dense(256,input_shape=(784),activation=functions.leakyRelu))\n",
    "    model.add(dropout(0.3))\n",
    "    model.add(dense(128,activation=functions.leakyRelu))\n",
    "    model.add(dense(1,activation=functions.sigmoid))\n",
    "    return model\n",
    "d=discriminator()"
   ]
  },
  {
   "cell_type": "code",
   "execution_count": 8,
   "metadata": {},
   "outputs": [
    {
     "name": "stdout",
     "output_type": "stream",
     "text": [
      "⎽⎽⎽⎽⎽⎽⎽⎽⎽⎽⎽⎽⎽⎽⎽⎽⎽⎽⎽⎽⎽⎽⎽⎽⎽⎽⎽⎽⎽⎽⎽⎽⎽⎽⎽⎽⎽⎽⎽⎽⎽⎽⎽⎽⎽⎽⎽⎽⎽⎽⎽⎽⎽⎽⎽⎽⎽⎽⎽⎽⎽⎽⎽⎽⎽⎽⎽⎽⎽⎽⎽⎽⎽⎽⎽⎽⎽⎽⎽⎽⎽⎽⎽⎽⎽⎽⎽⎽⎽⎽\n",
      "Layer (type)               Output Shape             Activation        Param #\n",
      "==========================================================================================\n",
      "0 input_layer(InputLayer) (None, 784)                echo             0\n",
      "__________________________________________________________________________________________\n",
      "1 dense(dense)            (None, 256)                leakyRelu        200960\n",
      "__________________________________________________________________________________________\n",
      "2 dropout(dropout)        (None, 256)                echo             0\n",
      "__________________________________________________________________________________________\n",
      "3 dense(dense)            (None, 128)                leakyRelu        32896\n",
      "__________________________________________________________________________________________\n",
      "4 dense(dense)            (None, 1)                  sigmoid          129\n",
      "==========================================================================================\n",
      "Total Params: 233,985\n",
      "Trainable Params: 233,985\n",
      "Non-trainable Params: 0\n"
     ]
    }
   ],
   "source": [
    "d.summary()"
   ]
  },
  {
   "cell_type": "code",
   "execution_count": 9,
   "metadata": {},
   "outputs": [],
   "source": [
    "g.compile(optimizer=optimizers.adam,loss=functions.mean_squared_error,learning_rate=0.001)\n",
    "d.compile(optimizer=optimizers.adam,loss=functions.cross_entropy_with_logits,learning_rate=0.001)"
   ]
  },
  {
   "cell_type": "code",
   "execution_count": 10,
   "metadata": {},
   "outputs": [],
   "source": [
    "def run():\n",
    "    batch_size=128\n",
    "    dsz=X_train.shape[0]\n",
    "    # Label real ones as 90% real\n",
    "    y_dis=np.zeros((2*batch_size,1),dtype=np.float32)\n",
    "    y_dis[:batch_size]=0.9\n",
    "    y_gen=np.ones((batch_size,1),dtype=np.float32)\n",
    "    for step in range(dsz//batch_size):\n",
    "        stt=time()\n",
    "        noise=np.random.normal(-1,1,(batch_size,100)).astype(np.float32)\n",
    "        # Generate fake images from noise\n",
    "        generated_images=g.predict(noise)\n",
    "        # Get random real images\n",
    "        real_images=X_train[step*batch_size:(step+1)*batch_size]\n",
    "#         X = np.concatenate([real_images,generated_images])\n",
    "        # Train discriminator\n",
    "        y_dis[:batch_size]=np.random.uniform(0.7,1,(batch_size,1)).astype(np.float32)\n",
    "        y_dis[batch_size:]=np.random.uniform(0,0.1,(batch_size,1)).astype(np.float32)\n",
    "        dout1=d.train_on_batch(real_images,y_dis[:batch_size])\n",
    "        dout2=d.train_on_batch(generated_images,y_dis[batch_size:])\n",
    "        dloss=d.loss(logits=dout2,labels=y_dis[batch_size:]).mean()\n",
    "        # Treat noised input of generator as real data\n",
    "        noise=np.random.normal(-1,1,(batch_size,100)).astype(np.float32)\n",
    "        # Train generator\n",
    "        gout=g.forward(noise)\n",
    "        # do not train discriminator and find delta for generator\n",
    "        dout,err=d.not_train_on_batch(gout,y_gen)\n",
    "        g.backprop(err,g.lenseq_m1)\n",
    "        g.optimizer(g.sequence,g.learning_rate,g.beta)\n",
    "        print(\"\\rProgress: {:.2f} %     Dloss: {}     Sample time: {:.3f}s    _\".format(step*batch_size*100/dsz,dloss,time()-stt),end='')"
   ]
  },
  {
   "cell_type": "code",
   "execution_count": null,
   "metadata": {
    "scrolled": true
   },
   "outputs": [],
   "source": [
    "epochs=40\n",
    "for epoch in range(epochs):\n",
    "    print(\"EPOCH:\",epoch+1,'/',epochs)\n",
    "    st_tm=time()\n",
    "    run()\n",
    "    print(\"\\nEpoch time: {}:{}s\".format(int(time()-st_tm)//60,int(time()-st_tm)%60))\n",
    "    noise=np.random.normal(-1,1,(1,100)).astype(np.float32)\n",
    "    gen=g.predict(noise)\n",
    "    plt.imshow(gen.reshape(28,28), cmap='Greys')\n",
    "    plt.show()\n",
    "    print(d.predict(gen)[0])"
   ]
  },
  {
   "cell_type": "code",
   "execution_count": null,
   "metadata": {},
   "outputs": [],
   "source": [
    "noise=np.random.normal(-1,1,(1,100)).astype(np.float32)\n",
    "gen=g.predict(noise)\n",
    "plt.imshow(gen.reshape(28,28), cmap='Greys')\n",
    "plt.show()\n",
    "print(d.predict(gen))\n",
    "img=X_train[np.random.randint(low=0,high=X_train.shape[0],size=1)]\n",
    "plt.imshow(img.reshape(28,28), cmap='Greys')\n",
    "plt.show()\n",
    "print(d.predict(img))"
   ]
  },
  {
   "cell_type": "code",
   "execution_count": null,
   "metadata": {},
   "outputs": [],
   "source": [
    "#BEST btsz=32, dout1+dout2=real+fake"
   ]
  }
 ],
 "metadata": {
  "kernelspec": {
   "display_name": "Python 3",
   "language": "python",
   "name": "python3"
  },
  "language_info": {
   "codemirror_mode": {
    "name": "ipython",
    "version": 3
   },
   "file_extension": ".py",
   "mimetype": "text/x-python",
   "name": "python",
   "nbconvert_exporter": "python",
   "pygments_lexer": "ipython3",
   "version": "3.7.4"
  }
 },
 "nbformat": 4,
 "nbformat_minor": 2
}
