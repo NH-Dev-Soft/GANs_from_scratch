{
  "nbformat": 4,
  "nbformat_minor": 0,
  "metadata": {
    "kernelspec": {
      "name": "python3",
      "display_name": "Python 3"
    },
    "language_info": {
      "codemirror_mode": {
        "name": "ipython",
        "version": 3
      },
      "file_extension": ".py",
      "mimetype": "text/x-python",
      "name": "python",
      "nbconvert_exporter": "python",
      "pygments_lexer": "ipython3",
      "version": "3.8.1"
    },
    "colab": {
      "name": "C-DCGAN_mnist.ipynb",
      "provenance": [],
      "collapsed_sections": []
    }
  },
  "cells": [
    {
      "cell_type": "code",
      "metadata": {
        "id": "txGfAGbL7lh0",
        "colab_type": "code",
        "colab": {}
      },
      "source": [
        "import timeit\n",
        "import matplotlib.pyplot as plt\n",
        "import pickle\n",
        "from time import time\n",
        "import numpy as np"
      ],
      "execution_count": 0,
      "outputs": []
    },
    {
      "cell_type": "code",
      "metadata": {
        "id": "kDps8z_O7rrp",
        "colab_type": "code",
        "outputId": "c2766e9b-62ff-4eb3-f6f1-5c8e58c52598",
        "colab": {
          "base_uri": "https://localhost:8080/",
          "height": 51
        }
      },
      "source": [
        "!pip install mnist"
      ],
      "execution_count": 2,
      "outputs": [
        {
          "output_type": "stream",
          "text": [
            "Requirement already satisfied: mnist in /usr/local/lib/python3.6/dist-packages (0.2.2)\n",
            "Requirement already satisfied: numpy in /usr/local/lib/python3.6/dist-packages (from mnist) (1.17.5)\n"
          ],
          "name": "stdout"
        }
      ]
    },
    {
      "cell_type": "code",
      "metadata": {
        "id": "4yaLLryO75x8",
        "colab_type": "code",
        "outputId": "073bdefd-407c-4b22-9566-b55b975a4461",
        "colab": {
          "base_uri": "https://localhost:8080/",
          "height": 34
        }
      },
      "source": [
        "!git clone https://github.com/ShivamShrirao/dnn_from_scratch"
      ],
      "execution_count": 3,
      "outputs": [
        {
          "output_type": "stream",
          "text": [
            "fatal: destination path 'dnn_from_scratch' already exists and is not an empty directory.\n"
          ],
          "name": "stdout"
        }
      ]
    },
    {
      "cell_type": "code",
      "metadata": {
        "id": "A06-9qME7lh6",
        "colab_type": "code",
        "outputId": "370f9106-e7d1-4293-f42b-5b9fa32ef8fa",
        "colab": {
          "base_uri": "https://localhost:8080/",
          "height": 51
        }
      },
      "source": [
        "import mnist\n",
        "print(\"Loading dataset....\")\n",
        "X_train, y_train = mnist.train_images(),mnist.train_labels()\n",
        "X_train = X_train.astype(np.float32)/255\n",
        "X_test, y_test = mnist.test_images(),mnist.test_labels()\n",
        "X_test = X_test.astype(np.float32)/255\n",
        "print(\"Done.\")"
      ],
      "execution_count": 4,
      "outputs": [
        {
          "output_type": "stream",
          "text": [
            "Loading dataset....\n",
            "Done.\n"
          ],
          "name": "stdout"
        }
      ]
    },
    {
      "cell_type": "code",
      "metadata": {
        "id": "I4A9Hw3k7liA",
        "colab_type": "code",
        "colab": {}
      },
      "source": [
        "# for tanh\n",
        "X_train=X_train*2 - 1\n",
        "X_test=X_test*2 - 1\n",
        "X_train=np.vstack((X_train,X_test)).reshape(-1,28,28,1)\n",
        "y_train=np.hstack((y_train,y_test))"
      ],
      "execution_count": 0,
      "outputs": []
    },
    {
      "cell_type": "code",
      "metadata": {
        "id": "nRbf0oaz7liE",
        "colab_type": "code",
        "colab": {}
      },
      "source": [
        "Y=np.zeros((y_train.size,y_train.max()+1),dtype=np.float32)\n",
        "Y[np.arange(y_train.size),y_train]=1"
      ],
      "execution_count": 0,
      "outputs": []
    },
    {
      "cell_type": "code",
      "metadata": {
        "id": "XlpZGeF47liI",
        "colab_type": "code",
        "colab": {}
      },
      "source": [
        "import sys\n",
        "sys.path.append(\"/content/dnn_from_scratch\")"
      ],
      "execution_count": 0,
      "outputs": []
    },
    {
      "cell_type": "code",
      "metadata": {
        "id": "aqkPCpD_7liL",
        "colab_type": "code",
        "outputId": "130aadb2-dfbf-4361-fccc-83b9ef3da228",
        "colab": {
          "base_uri": "https://localhost:8080/",
          "height": 51
        }
      },
      "source": [
        "from nnet.network import Sequential,layers\n",
        "from nnet.layers import conv2d,max_pool,flatten,dense,dropout,conv2d,conv2dtranspose,upsampling,reshape,BatchNormalization,Activation\n",
        "from nnet import functions\n",
        "from nnet import optimizers\n",
        "import numpy as np"
      ],
      "execution_count": 8,
      "outputs": [
        {
          "output_type": "stream",
          "text": [
            "Seed: 613\n",
            "Seed: 866\n"
          ],
          "name": "stdout"
        }
      ]
    },
    {
      "cell_type": "code",
      "metadata": {
        "id": "oFUc9Rhd7liS",
        "colab_type": "code",
        "outputId": "b4135a42-9d9a-48e9-b999-418255eec1a1",
        "colab": {
          "base_uri": "https://localhost:8080/",
          "height": 391
        }
      },
      "source": [
        "def generator():\n",
        "    model=Sequential()\n",
        "    model.add(dense(128*7*7,activation=functions.leakyRelu,input_shape=100+10))\n",
        "    model.add(reshape((7,7,128)))\n",
        "#     model.add(upsampling())\n",
        "#     model.add(conv2d(64,kernel_size=3,activation=functions.leakyRelu))\n",
        "    model.add(conv2dtranspose(64,kernel_size=3,stride=[2,2],activation=functions.leakyRelu))\n",
        "    model.add(BatchNormalization())\n",
        "#     model.add(upsampling())\n",
        "#     model.add(conv2d(32,kernel_size=3,activation=functions.leakyRelu))\n",
        "    model.add(conv2dtranspose(32,kernel_size=3,stride=[2,2],activation=functions.leakyRelu))\n",
        "    model.add(BatchNormalization())\n",
        "    model.add(conv2d(1,kernel_size=3,activation=functions.tanh))\n",
        "    return model\n",
        "g=generator()\n",
        "g.summary()"
      ],
      "execution_count": 44,
      "outputs": [
        {
          "output_type": "stream",
          "text": [
            "⎽⎽⎽⎽⎽⎽⎽⎽⎽⎽⎽⎽⎽⎽⎽⎽⎽⎽⎽⎽⎽⎽⎽⎽⎽⎽⎽⎽⎽⎽⎽⎽⎽⎽⎽⎽⎽⎽⎽⎽⎽⎽⎽⎽⎽⎽⎽⎽⎽⎽⎽⎽⎽⎽⎽⎽⎽⎽⎽⎽⎽⎽⎽⎽⎽⎽⎽⎽⎽⎽⎽⎽⎽⎽⎽⎽⎽⎽⎽⎽⎽⎽⎽⎽⎽⎽⎽⎽⎽⎽\n",
            "Layer (type)               Output Shape             Activation        Param #\n",
            "==========================================================================================\n",
            "0 input_layer(InputLayer) (None, 110)                echo             0\n",
            "__________________________________________________________________________________________\n",
            "1 dense(dense)            (None, 6272)               leakyRelu        696192\n",
            "__________________________________________________________________________________________\n",
            "2 reshape(reshape)        (None, 7, 7, 128)          echo             0\n",
            "__________________________________________________________________________________________\n",
            "3 conv2dtranspose(conv2dt (None, 14, 14, 64)         leakyRelu        73792\n",
            "__________________________________________________________________________________________\n",
            "4 BatchNormalization(Batc (None, 14, 14, 64)         echo             256\n",
            "__________________________________________________________________________________________\n",
            "5 conv2dtranspose(conv2dt (None, 28, 28, 32)         leakyRelu        18464\n",
            "__________________________________________________________________________________________\n",
            "6 BatchNormalization(Batc (None, 28, 28, 32)         echo             128\n",
            "__________________________________________________________________________________________\n",
            "7 conv2d(conv2d)          (None, 28, 28, 1)          tanh             289\n",
            "==========================================================================================\n",
            "Total Params: 789,121\n",
            "Trainable Params: 788,929\n",
            "Non-trainable Params: 192\n"
          ],
          "name": "stdout"
        }
      ]
    },
    {
      "cell_type": "code",
      "metadata": {
        "id": "0UX5e-237liX",
        "colab_type": "code",
        "outputId": "4de2a7b3-86c4-484f-9e55-bca71d8803ad",
        "colab": {
          "base_uri": "https://localhost:8080/",
          "height": 493
        }
      },
      "source": [
        "def discriminator():\n",
        "    model=Sequential()\n",
        "    model.add(conv2d(32,kernel_size=3,stride=[2,2],activation=functions.leakyRelu,input_shape=(28,28,11)))\n",
        "    model.add(BatchNormalization())\n",
        "    model.add(dropout(0.3))\n",
        "    model.add(conv2d(64,kernel_size=3,stride=[2,2],activation=functions.leakyRelu))\n",
        "    model.add(BatchNormalization())\n",
        "    model.add(dropout(0.3))\n",
        "    model.add(flatten())\n",
        "    model.add(dense(256,activation=functions.leakyRelu))\n",
        "    model.add(dropout(0.3))\n",
        "    model.add(dense(1,activation=functions.sigmoid))\n",
        "    return model\n",
        "d=discriminator()\n",
        "d.summary()"
      ],
      "execution_count": 45,
      "outputs": [
        {
          "output_type": "stream",
          "text": [
            "⎽⎽⎽⎽⎽⎽⎽⎽⎽⎽⎽⎽⎽⎽⎽⎽⎽⎽⎽⎽⎽⎽⎽⎽⎽⎽⎽⎽⎽⎽⎽⎽⎽⎽⎽⎽⎽⎽⎽⎽⎽⎽⎽⎽⎽⎽⎽⎽⎽⎽⎽⎽⎽⎽⎽⎽⎽⎽⎽⎽⎽⎽⎽⎽⎽⎽⎽⎽⎽⎽⎽⎽⎽⎽⎽⎽⎽⎽⎽⎽⎽⎽⎽⎽⎽⎽⎽⎽⎽⎽\n",
            "Layer (type)               Output Shape             Activation        Param #\n",
            "==========================================================================================\n",
            "0 input_layer(InputLayer) (None, 28, 28, 11)         echo             0\n",
            "__________________________________________________________________________________________\n",
            "1 conv2d(conv2d)          (None, 14, 14, 32)         leakyRelu        3200\n",
            "__________________________________________________________________________________________\n",
            "2 BatchNormalization(Batc (None, 14, 14, 32)         echo             128\n",
            "__________________________________________________________________________________________\n",
            "3 dropout(dropout)        (None, 14, 14, 32)         echo             0\n",
            "__________________________________________________________________________________________\n",
            "4 conv2d(conv2d)          (None, 7, 7, 64)           leakyRelu        18496\n",
            "__________________________________________________________________________________________\n",
            "5 BatchNormalization(Batc (None, 7, 7, 64)           echo             256\n",
            "__________________________________________________________________________________________\n",
            "6 dropout(dropout)        (None, 7, 7, 64)           echo             0\n",
            "__________________________________________________________________________________________\n",
            "7 flatten(flatten)        (None, 3136)               echo             0\n",
            "__________________________________________________________________________________________\n",
            "8 dense(dense)            (None, 256)                leakyRelu        803072\n",
            "__________________________________________________________________________________________\n",
            "9 dropout(dropout)        (None, 256)                echo             0\n",
            "__________________________________________________________________________________________\n",
            "10 dense(dense)           (None, 1)                  sigmoid          257\n",
            "==========================================================================================\n",
            "Total Params: 825,409\n",
            "Trainable Params: 825,217\n",
            "Non-trainable Params: 192\n"
          ],
          "name": "stdout"
        }
      ]
    },
    {
      "cell_type": "code",
      "metadata": {
        "id": "Bq-cchXQ7lia",
        "colab_type": "code",
        "colab": {}
      },
      "source": [
        "g.compile(optimizer=optimizers.adam,loss=functions.mean_squared_error,learning_rate=0.002)\n",
        "d.compile(optimizer=optimizers.adam,loss=functions.cross_entropy_with_logits,learning_rate=0.002)"
      ],
      "execution_count": 0,
      "outputs": []
    },
    {
      "cell_type": "code",
      "metadata": {
        "id": "-4N5KkDo7lid",
        "colab_type": "code",
        "colab": {}
      },
      "source": [
        "noise=np.random.randn(64,100+10).astype(np.float32)\n",
        "gen=g.predict(noise)"
      ],
      "execution_count": 0,
      "outputs": []
    },
    {
      "cell_type": "code",
      "metadata": {
        "id": "bIQdRa3s7lih",
        "colab_type": "code",
        "outputId": "89538967-6f5d-4d76-ed7c-195674d2d483",
        "colab": {
          "base_uri": "https://localhost:8080/",
          "height": 34
        }
      },
      "source": [
        "X_train.shape,Y.shape"
      ],
      "execution_count": 48,
      "outputs": [
        {
          "output_type": "execute_result",
          "data": {
            "text/plain": [
              "((70000, 28, 28, 1), (70000, 10))"
            ]
          },
          "metadata": {
            "tags": []
          },
          "execution_count": 48
        }
      ]
    },
    {
      "cell_type": "code",
      "metadata": {
        "id": "FbIu0_eI7lik",
        "colab_type": "code",
        "colab": {}
      },
      "source": [
        "def gen_sample():\n",
        "    noise=np.hstack((np.random.randn(1,100),Y[np.random.randint(0,Y.shape[0],1)])).astype(np.float32)\n",
        "    gen=g.predict(noise)\n",
        "    plt.imshow((gen.reshape(28,28)+1)/2, cmap='Greys')\n",
        "    plt.show()\n",
        "    # print(d.predict(gen)[0])"
      ],
      "execution_count": 0,
      "outputs": []
    },
    {
      "cell_type": "code",
      "metadata": {
        "id": "QfTNftGq7lin",
        "colab_type": "code",
        "colab": {}
      },
      "source": [
        "def run():\n",
        "    batch_size=256\n",
        "    dsz=X_train.shape[0]\n",
        "    # Label real ones as 90% real\n",
        "    y_fake=np.zeros((batch_size,1),dtype=np.float32)\n",
        "    y_real=np.ones((batch_size,1),dtype=np.float32)\n",
        "    y_gen=np.ones((batch_size*2,1),dtype=np.float32)\n",
        "    for step in range(dsz//batch_size):\n",
        "        stt=time()\n",
        "        fake_labels=Y[np.random.randint(0,Y.shape[0],batch_size)]\n",
        "        noise=np.hstack((np.random.randn(batch_size,100),fake_labels)).astype(np.float32)\n",
        "        # Generate fake images from noise\n",
        "        generated_images=g.predict(noise)\n",
        "        # Get random real images\n",
        "        idxs=np.random.randint(low=0,high=X_train.shape[0],size=batch_size)\n",
        "        real_images=X_train[idxs]\n",
        "        real_labels=Y[idxs]\n",
        "        # Train discriminator\n",
        "#         y_real=np.random.uniform(0.9,1,(batch_size,1)).astype(np.float32)\n",
        "#         y_fake=np.random.uniform(0,0.1,(batch_size,1)).astype(np.float32)\n",
        "        real_labels=np.expand_dims(real_labels, axis=1)\n",
        "        real_labels=np.expand_dims(real_labels, axis=1)\n",
        "        real_labels=np.tile(real_labels,[1,28,28,1])\n",
        "        real_images=np.concatenate((real_images,real_labels),axis=3)\n",
        "\n",
        "        fake_labels=np.expand_dims(fake_labels, axis=1)\n",
        "        fake_labels=np.expand_dims(fake_labels, axis=1)\n",
        "        fake_labels=np.tile(fake_labels,[1,28,28,1])\n",
        "        generated_images=np.concatenate((generated_images,fake_labels),axis=3)\n",
        "\n",
        "        dout1=d.train_on_batch(real_images,y_real)\n",
        "        dout2=d.train_on_batch(generated_images,y_fake)\n",
        "        dloss=functions.cross_entropy(logits=dout2,labels=y_fake).sum()\n",
        "        # Treat noised output of generator as real data\n",
        "        gen_labels=Y[np.random.randint(0,Y.shape[0],batch_size*2)]\n",
        "        noise=np.hstack((np.random.randn(batch_size*2,100),gen_labels)).astype(np.float32)\n",
        "        # Train generator\n",
        "        gout=g.forward(noise)\n",
        "        # do not train discriminator and find delta for generator\n",
        "        gen_labels=np.expand_dims(gen_labels, axis=1)\n",
        "        gen_labels=np.expand_dims(gen_labels, axis=1)\n",
        "        gen_labels=np.tile(gen_labels,[1,28,28,1])\n",
        "        gout=np.concatenate((gout,gen_labels),axis=3)\n",
        "\n",
        "        dout,err=d.not_train_on_batch(gout,y_gen)\n",
        "\n",
        "        err=err[:,:,:,:1]\n",
        "\n",
        "        g.backprop(err,g.lenseq_m1)\n",
        "        g.optimizer(g.sequence,g.learning_rate,g.beta)\n",
        "        if not step%60:\n",
        "            gen_sample()\n",
        "        print(\"\\rProgress: {:.2f} %     Dloss: {}    err: {}     Sample time: {:.3f}s    _\".format(step*batch_size*100/dsz,dloss,abs(err).mean(),time()-stt),end='')"
      ],
      "execution_count": 0,
      "outputs": []
    },
    {
      "cell_type": "code",
      "metadata": {
        "scrolled": true,
        "id": "GqrA3opb7lip",
        "colab_type": "code",
        "outputId": "fa258291-8895-44da-cea8-978cef6dbab7",
        "colab": {
          "base_uri": "https://localhost:8080/",
          "height": 564
        }
      },
      "source": [
        "epochs=5\n",
        "for epoch in range(epochs):\n",
        "    print(\"EPOCH:\",epoch+1,'/',epochs)\n",
        "    st_tm=time()\n",
        "    run()\n",
        "    print(\"\\nEpoch time: {}:{}s\".format(int(time()-st_tm)//60,int(time()-st_tm)%60))\n",
        "    gen_sample()"
      ],
      "execution_count": 0,
      "outputs": [
        {
          "output_type": "stream",
          "text": [
            "EPOCH: 1 / 5\n"
          ],
          "name": "stdout"
        },
        {
          "output_type": "display_data",
          "data": {
            "image/png": "[encoded data removed]",
            "text/plain": [
              "<Figure size 432x288 with 1 Axes>"
            ]
          },
          "metadata": {
            "tags": []
          }
        },
        {
          "output_type": "stream",
          "text": [
            "Progress: 21.58 %     Dloss: 21.709239959716797    err: 0.03165049850940704     Sample time: 7.569s    _"
          ],
          "name": "stdout"
        },
        {
          "output_type": "display_data",
          "data": {
            "image/png": "[encoded data removed]",
            "text/plain": [
              "<Figure size 432x288 with 1 Axes>"
            ]
          },
          "metadata": {
            "tags": []
          }
        },
        {
          "output_type": "stream",
          "text": [
            "Progress: 31.45 %     Dloss: 118.69159698486328    err: 0.012201550416648388     Sample time: 7.641s    _"
          ],
          "name": "stdout"
        }
      ]
    },
    {
      "cell_type": "markdown",
      "metadata": {
        "id": "9Ir6hsdd7liv",
        "colab_type": "text"
      },
      "source": [
        "## # Using generator with just batch size 1 for first time is causing images to be generated extreme"
      ]
    },
    {
      "cell_type": "code",
      "metadata": {
        "scrolled": false,
        "id": "V36GZWHd7liw",
        "colab_type": "code",
        "colab": {}
      },
      "source": [
        "noise=np.hstack((np.random.randn(128,100),Y[np.random.randint(0,Y.shape[0],128)])).astype(np.float32)\n",
        "gen=g.predict(noise)\n",
        "gen_sample()\n",
        "img=X_train[np.random.randint(low=0,high=X_train.shape[0],size=1)]\n",
        "plt.imshow((img.reshape(28,28)+1)/2, cmap='Greys')\n",
        "plt.show()\n",
        "# print(d.predict(img))"
      ],
      "execution_count": 0,
      "outputs": []
    },
    {
      "cell_type": "code",
      "metadata": {
        "scrolled": false,
        "id": "m9qLmND17li2",
        "colab_type": "code",
        "colab": {}
      },
      "source": [
        "fig, ax = plt.subplots(nrows=2,ncols=5,figsize=[10,5],gridspec_kw = {'wspace':0, 'hspace':0})\n",
        "fig.patch.set_facecolor('white')\n",
        "noise=np.hstack((np.random.randn(10,100),np.eye(10))).astype(np.float32)\n",
        "# noise=np.random.randn(25,10).astype(np.float32)\n",
        "gen = g.predict(noise)\n",
        "for i,axi in enumerate(ax.flat):\n",
        "    axi.axis(\"off\")\n",
        "    axi.imshow((gen[i].squeeze()+1)/2, cmap='Greys')"
      ],
      "execution_count": 0,
      "outputs": []
    },
    {
      "cell_type": "code",
      "metadata": {
        "id": "mDHuX33NAZPh",
        "colab_type": "code",
        "colab": {}
      },
      "source": [
        ""
      ],
      "execution_count": 0,
      "outputs": []
    }
  ]
}