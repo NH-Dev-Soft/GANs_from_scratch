{
 "cells": [
  {
   "cell_type": "code",
   "execution_count": 1,
   "metadata": {
    "colab": {},
    "colab_type": "code",
    "id": "txGfAGbL7lh0"
   },
   "outputs": [],
   "source": [
    "import timeit\n",
    "import matplotlib.pyplot as plt\n",
    "import pickle\n",
    "from time import time\n",
    "import numpy as np"
   ]
  },
  {
   "cell_type": "code",
   "execution_count": 2,
   "metadata": {
    "colab": {
     "base_uri": "https://localhost:8080/",
     "height": 51
    },
    "colab_type": "code",
    "id": "A06-9qME7lh6",
    "outputId": "370f9106-e7d1-4293-f42b-5b9fa32ef8fa"
   },
   "outputs": [
    {
     "name": "stdout",
     "output_type": "stream",
     "text": [
      "Loading dataset....\n",
      "Done.\n"
     ]
    }
   ],
   "source": [
    "from mnist import MNIST\n",
    "print(\"Loading dataset....\")\n",
    "mndata = MNIST('../mnist_dataset')\n",
    "X_train, y_train = mndata.load_training()\n",
    "X_train = (mndata.process_images_to_numpy(X_train)/255).astype(np.float32)\n",
    "X_test, y_test = mndata.load_testing()\n",
    "X_test = (mndata.process_images_to_numpy(X_test)/255).astype(np.float32)\n",
    "print(\"Done.\")"
   ]
  },
  {
   "cell_type": "code",
   "execution_count": 3,
   "metadata": {
    "colab": {},
    "colab_type": "code",
    "id": "I4A9Hw3k7liA"
   },
   "outputs": [],
   "source": [
    "# for tanh\n",
    "X_train=X_train*2 - 1\n",
    "X_test=X_test*2 - 1\n",
    "X_train=np.ascontiguousarray(np.vstack((X_train,X_test)).reshape(-1,28,28,1))\n",
    "y_train=np.ascontiguousarray(np.hstack((y_train,y_test)))"
   ]
  },
  {
   "cell_type": "code",
   "execution_count": 4,
   "metadata": {
    "colab": {},
    "colab_type": "code",
    "id": "nRbf0oaz7liE"
   },
   "outputs": [],
   "source": [
    "Y=np.zeros((y_train.size,y_train.max()+1),dtype=np.float32)\n",
    "Y[np.arange(y_train.size),y_train]=1"
   ]
  },
  {
   "cell_type": "code",
   "execution_count": 5,
   "metadata": {
    "colab": {},
    "colab_type": "code",
    "id": "XlpZGeF47liI"
   },
   "outputs": [],
   "source": [
    "import sys\n",
    "sys.path.append(\"../dnn_from_scratch\")"
   ]
  },
  {
   "cell_type": "code",
   "execution_count": 6,
   "metadata": {
    "colab": {
     "base_uri": "https://localhost:8080/",
     "height": 51
    },
    "colab_type": "code",
    "id": "aqkPCpD_7liL",
    "outputId": "130aadb2-dfbf-4361-fccc-83b9ef3da228"
   },
   "outputs": [
    {
     "name": "stdout",
     "output_type": "stream",
     "text": [
      "Seed: 861\n",
      "Seed: 173\n"
     ]
    }
   ],
   "source": [
    "from nnet.network import Sequential,layers\n",
    "from nnet.layers import conv2d,max_pool,flatten,dense,dropout,conv2d,conv2dtranspose,upsampling,reshape,BatchNormalization,Activation\n",
    "from nnet import functions\n",
    "from nnet import optimizers\n",
    "import numpy as np"
   ]
  },
  {
   "cell_type": "code",
   "execution_count": 7,
   "metadata": {
    "colab": {
     "base_uri": "https://localhost:8080/",
     "height": 391
    },
    "colab_type": "code",
    "id": "oFUc9Rhd7liS",
    "outputId": "b4135a42-9d9a-48e9-b999-418255eec1a1"
   },
   "outputs": [
    {
     "name": "stdout",
     "output_type": "stream",
     "text": [
      "⎽⎽⎽⎽⎽⎽⎽⎽⎽⎽⎽⎽⎽⎽⎽⎽⎽⎽⎽⎽⎽⎽⎽⎽⎽⎽⎽⎽⎽⎽⎽⎽⎽⎽⎽⎽⎽⎽⎽⎽⎽⎽⎽⎽⎽⎽⎽⎽⎽⎽⎽⎽⎽⎽⎽⎽⎽⎽⎽⎽⎽⎽⎽⎽⎽⎽⎽⎽⎽⎽⎽⎽⎽⎽⎽⎽⎽⎽⎽⎽⎽⎽⎽⎽⎽⎽⎽⎽⎽⎽\n",
      "Layer (type)               Output Shape             Activation        Param #\n",
      "==========================================================================================\n",
      "0 input_layer(InputLayer) (None, 110)                echo             0\n",
      "__________________________________________________________________________________________\n",
      "1 dense(dense)            (None, 6272)               leakyRelu        696192\n",
      "__________________________________________________________________________________________\n",
      "2 reshape(reshape)        (None, 7, 7, 128)          echo             0\n",
      "__________________________________________________________________________________________\n",
      "3 conv2dtranspose(conv2dt (None, 14, 14, 64)         leakyRelu        73792\n",
      "__________________________________________________________________________________________\n",
      "4 BatchNormalization(Batc (None, 14, 14, 64)         echo             256\n",
      "__________________________________________________________________________________________\n",
      "5 conv2dtranspose(conv2dt (None, 28, 28, 32)         leakyRelu        18464\n",
      "__________________________________________________________________________________________\n",
      "6 BatchNormalization(Batc (None, 28, 28, 32)         echo             128\n",
      "__________________________________________________________________________________________\n",
      "7 conv2d(conv2d)          (None, 28, 28, 1)          tanh             289\n",
      "==========================================================================================\n",
      "Total Params: 789,121\n",
      "Trainable Params: 788,929\n",
      "Non-trainable Params: 192\n"
     ]
    }
   ],
   "source": [
    "def generator():\n",
    "    model=Sequential()\n",
    "    model.add(dense(128*7*7,activation=functions.leakyRelu,input_shape=100+10))\n",
    "    model.add(reshape((7,7,128)))\n",
    "#     model.add(upsampling())\n",
    "#     model.add(conv2d(64,kernel_size=3,activation=functions.leakyRelu))\n",
    "    model.add(conv2dtranspose(64,kernel_size=3,stride=[2,2],activation=functions.leakyRelu))\n",
    "    model.add(BatchNormalization())\n",
    "#     model.add(upsampling())\n",
    "#     model.add(conv2d(32,kernel_size=3,activation=functions.leakyRelu))\n",
    "    model.add(conv2dtranspose(32,kernel_size=3,stride=[2,2],activation=functions.leakyRelu))\n",
    "    model.add(BatchNormalization())\n",
    "    model.add(conv2d(1,kernel_size=3,activation=functions.tanh))\n",
    "    return model\n",
    "g=generator()\n",
    "g.summary()"
   ]
  },
  {
   "cell_type": "code",
   "execution_count": 8,
   "metadata": {
    "colab": {
     "base_uri": "https://localhost:8080/",
     "height": 493
    },
    "colab_type": "code",
    "id": "0UX5e-237liX",
    "outputId": "4de2a7b3-86c4-484f-9e55-bca71d8803ad"
   },
   "outputs": [
    {
     "name": "stdout",
     "output_type": "stream",
     "text": [
      "⎽⎽⎽⎽⎽⎽⎽⎽⎽⎽⎽⎽⎽⎽⎽⎽⎽⎽⎽⎽⎽⎽⎽⎽⎽⎽⎽⎽⎽⎽⎽⎽⎽⎽⎽⎽⎽⎽⎽⎽⎽⎽⎽⎽⎽⎽⎽⎽⎽⎽⎽⎽⎽⎽⎽⎽⎽⎽⎽⎽⎽⎽⎽⎽⎽⎽⎽⎽⎽⎽⎽⎽⎽⎽⎽⎽⎽⎽⎽⎽⎽⎽⎽⎽⎽⎽⎽⎽⎽⎽\n",
      "Layer (type)               Output Shape             Activation        Param #\n",
      "==========================================================================================\n",
      "0 input_layer(InputLayer) (None, 28, 28, 11)         echo             0\n",
      "__________________________________________________________________________________________\n",
      "1 conv2d(conv2d)          (None, 14, 14, 32)         leakyRelu        3200\n",
      "__________________________________________________________________________________________\n",
      "2 BatchNormalization(Batc (None, 14, 14, 32)         echo             128\n",
      "__________________________________________________________________________________________\n",
      "3 dropout(dropout)        (None, 14, 14, 32)         echo             0\n",
      "__________________________________________________________________________________________\n",
      "4 conv2d(conv2d)          (None, 7, 7, 64)           leakyRelu        18496\n",
      "__________________________________________________________________________________________\n",
      "5 BatchNormalization(Batc (None, 7, 7, 64)           echo             256\n",
      "__________________________________________________________________________________________\n",
      "6 dropout(dropout)        (None, 7, 7, 64)           echo             0\n",
      "__________________________________________________________________________________________\n",
      "7 flatten(flatten)        (None, 3136)               echo             0\n",
      "__________________________________________________________________________________________\n",
      "8 dense(dense)            (None, 256)                leakyRelu        803072\n",
      "__________________________________________________________________________________________\n",
      "9 dropout(dropout)        (None, 256)                echo             0\n",
      "__________________________________________________________________________________________\n",
      "10 dense(dense)           (None, 1)                  sigmoid          257\n",
      "==========================================================================================\n",
      "Total Params: 825,409\n",
      "Trainable Params: 825,217\n",
      "Non-trainable Params: 192\n"
     ]
    }
   ],
   "source": [
    "def discriminator():\n",
    "    model=Sequential()\n",
    "    model.add(conv2d(32,kernel_size=3,stride=[2,2],activation=functions.leakyRelu,input_shape=(28,28,11)))\n",
    "    model.add(BatchNormalization())\n",
    "    model.add(dropout(0.3))\n",
    "    model.add(conv2d(64,kernel_size=3,stride=[2,2],activation=functions.leakyRelu))\n",
    "    model.add(BatchNormalization())\n",
    "    model.add(dropout(0.3))\n",
    "    model.add(flatten())\n",
    "    model.add(dense(256,activation=functions.leakyRelu))\n",
    "    model.add(dropout(0.3))\n",
    "    model.add(dense(1,activation=functions.sigmoid))\n",
    "    return model\n",
    "d=discriminator()\n",
    "d.summary()"
   ]
  },
  {
   "cell_type": "code",
   "execution_count": 9,
   "metadata": {
    "colab": {},
    "colab_type": "code",
    "id": "Bq-cchXQ7lia"
   },
   "outputs": [],
   "source": [
    "g.compile(optimizer=optimizers.adam,loss=functions.mean_squared_error,learning_rate=0.002)\n",
    "d.compile(optimizer=optimizers.adam,loss=functions.cross_entropy_with_logits,learning_rate=0.002)"
   ]
  },
  {
   "cell_type": "code",
   "execution_count": 10,
   "metadata": {
    "colab": {},
    "colab_type": "code",
    "id": "-4N5KkDo7lid"
   },
   "outputs": [],
   "source": [
    "noise=np.random.randn(64,100+10).astype(np.float32)\n",
    "gen=g.predict(noise)"
   ]
  },
  {
   "cell_type": "code",
   "execution_count": 11,
   "metadata": {
    "colab": {
     "base_uri": "https://localhost:8080/",
     "height": 34
    },
    "colab_type": "code",
    "id": "bIQdRa3s7lih",
    "outputId": "89538967-6f5d-4d76-ed7c-195674d2d483"
   },
   "outputs": [
    {
     "data": {
      "text/plain": [
       "((70000, 28, 28, 1), (70000, 10))"
      ]
     },
     "execution_count": 11,
     "metadata": {},
     "output_type": "execute_result"
    }
   ],
   "source": [
    "X_train.shape,Y.shape"
   ]
  },
  {
   "cell_type": "code",
   "execution_count": 12,
   "metadata": {
    "colab": {},
    "colab_type": "code",
    "id": "FbIu0_eI7lik"
   },
   "outputs": [],
   "source": [
    "def gen_sample():\n",
    "    cndtn=Y[np.random.randint(0,Y.shape[0],1)]\n",
    "    print()\n",
    "    print(cndtn[0].argmax())\n",
    "    noise=np.hstack((np.random.randn(1,100),cndtn)).astype(np.float32)\n",
    "    gen=g.predict(noise)\n",
    "    plt.imshow((gen.reshape(28,28)+1)/2, cmap='Greys')\n",
    "    plt.show()"
   ]
  },
  {
   "cell_type": "code",
   "execution_count": 13,
   "metadata": {
    "colab": {},
    "colab_type": "code",
    "id": "QfTNftGq7lin"
   },
   "outputs": [],
   "source": [
    "def run(batch_size=128):\n",
    "    dsz=X_train.shape[0]\n",
    "    # Label real ones as 90% real\n",
    "    y_fake=np.zeros((batch_size,1),dtype=np.float32)\n",
    "    y_real=np.ones((batch_size,1),dtype=np.float32)\n",
    "    y_gen=np.ones((batch_size,1),dtype=np.float32)\n",
    "    for step in range(dsz//batch_size):\n",
    "        stt=time()\n",
    "        fake_labels=Y[np.random.randint(0,Y.shape[0],batch_size)]\n",
    "        noise=np.hstack((np.random.randn(batch_size,100),fake_labels)).astype(np.float32)\n",
    "        # Generate fake images from noise\n",
    "        generated_images=g.predict(noise)\n",
    "        # Get random real images\n",
    "        idxs=np.random.randint(low=0,high=X_train.shape[0],size=batch_size)\n",
    "        real_images=X_train[idxs]\n",
    "        real_labels=Y[idxs]\n",
    "        # Train discriminator\n",
    "#         y_real=np.random.uniform(0.9,1,(batch_size,1)).astype(np.float32)\n",
    "#         y_fake=np.random.uniform(0,0.1,(batch_size,1)).astype(np.float32)\n",
    "        real_labels=np.expand_dims(real_labels, axis=1)\n",
    "        real_labels=np.expand_dims(real_labels, axis=1)\n",
    "        real_labels=np.tile(real_labels,[1,28,28,1])\n",
    "        real_images=np.concatenate((real_images,real_labels),axis=3)\n",
    "\n",
    "        fake_labels=np.expand_dims(fake_labels, axis=1)\n",
    "        fake_labels=np.expand_dims(fake_labels, axis=1)\n",
    "        fake_labels=np.tile(fake_labels,[1,28,28,1])\n",
    "        generated_images=np.concatenate((generated_images,fake_labels),axis=3)\n",
    "\n",
    "        dout1=d.train_on_batch(real_images,y_real)\n",
    "        dout2=d.train_on_batch(generated_images,y_fake)\n",
    "        dloss=functions.cross_entropy(logits=dout2,labels=y_fake).sum()\n",
    "                \n",
    "        # Train generator\n",
    "        gen_labels=Y[np.random.randint(0,Y.shape[0],batch_size)]\n",
    "        noise=np.hstack((np.random.randn(batch_size,100),gen_labels)).astype(np.float32)\n",
    "        gout=g.forward(noise)\n",
    "        # do not train discriminator and find delta for generator\n",
    "        gen_labels=np.expand_dims(gen_labels, axis=1)\n",
    "        gen_labels=np.expand_dims(gen_labels, axis=1)\n",
    "        gen_labels=np.tile(gen_labels,[1,28,28,1])\n",
    "        gout=np.concatenate((gout,gen_labels),axis=3)\n",
    "\n",
    "        dout,err=d.not_train_on_batch(gout,y_gen)\n",
    "\n",
    "        err=err[:,:,:,:1]\n",
    "\n",
    "        g.backprop(err,g.lenseq_m1)\n",
    "        g.optimizer(g.sequence,g.learning_rate,g.beta)\n",
    "        if not step%30:\n",
    "            gen_sample()\n",
    "        print(\"\\rProgress: {:.2f} %     Dloss: {}    err: {}     Sample time: {:.3f}s    _\".format(step*batch_size*100/dsz,dloss,abs(err).mean(),time()-stt),end='')"
   ]
  },
  {
   "cell_type": "code",
   "execution_count": null,
   "metadata": {
    "colab": {
     "base_uri": "https://localhost:8080/",
     "height": 1000
    },
    "colab_type": "code",
    "id": "GqrA3opb7lip",
    "outputId": "2c3f1f9c-33c9-4e3c-e088-f573c3d11c6d",
    "scrolled": false
   },
   "outputs": [],
   "source": [
    "epochs=5\n",
    "for epoch in range(epochs):\n",
    "    print(\"EPOCH:\",epoch+1,'/',epochs)\n",
    "    st_tm=time()\n",
    "    run(256)\n",
    "    print(\"\\nEpoch time: {}:{}s\".format(int(time()-st_tm)//60,int(time()-st_tm)%60))\n",
    "    gen_sample()"
   ]
  },
  {
   "cell_type": "markdown",
   "metadata": {
    "colab_type": "text",
    "id": "9Ir6hsdd7liv"
   },
   "source": [
    "## # Using generator with just batch size 1 for first time is causing images to be generated extreme"
   ]
  },
  {
   "cell_type": "code",
   "execution_count": 39,
   "metadata": {
    "colab": {
     "base_uri": "https://localhost:8080/",
     "height": 427
    },
    "colab_type": "code",
    "id": "m9qLmND17li2",
    "outputId": "675b77ab-0253-4e40-94ba-765c28377115",
    "scrolled": false
   },
   "outputs": [
    {
     "data": {
      "image/png": "[encoded data removed]",
      "text/plain": [
       "<Figure size 1152x576 with 10 Axes>"
      ]
     },
     "metadata": {},
     "output_type": "display_data"
    }
   ],
   "source": [
    "fig, ax = plt.subplots(nrows=2,ncols=5,figsize=[16,8],gridspec_kw = {'wspace':0, 'hspace':0})\n",
    "fig.patch.set_facecolor('white')\n",
    "noise=np.hstack((np.random.randn(10,100),np.eye(10))).astype(np.float32)\n",
    "# noise=np.random.randn(25,10).astype(np.float32)\n",
    "gen = g.predict(noise)\n",
    "for i,axi in enumerate(ax.flat):\n",
    "    axi.axis(\"off\")\n",
    "    axi.imshow((gen[i].squeeze()+1)/2, cmap='Greys')"
   ]
  },
  {
   "cell_type": "code",
   "execution_count": null,
   "metadata": {
    "colab": {},
    "colab_type": "code",
    "id": "mDHuX33NAZPh"
   },
   "outputs": [],
   "source": []
  }
 ],
 "metadata": {
  "colab": {
   "collapsed_sections": [],
   "name": "C-DCGAN_mnist.ipynb",
   "provenance": [],
   "toc_visible": true
  },
  "kernelspec": {
   "display_name": "Python 3",
   "language": "python",
   "name": "python3"
  },
  "language_info": {
   "codemirror_mode": {
    "name": "ipython",
    "version": 3
   },
   "file_extension": ".py",
   "mimetype": "text/x-python",
   "name": "python",
   "nbconvert_exporter": "python",
   "pygments_lexer": "ipython3",
   "version": "3.8.1"
  }
 },
 "nbformat": 4,
 "nbformat_minor": 1
}
